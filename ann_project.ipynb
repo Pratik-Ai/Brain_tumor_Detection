{
  "nbformat": 4,
  "nbformat_minor": 0,
  "metadata": {
    "colab": {
      "name": "ann project.ipynb",
      "provenance": [],
      "collapsed_sections": []
    },
    "kernelspec": {
      "display_name": "Python 3",
      "name": "python3"
    },
    "language_info": {
      "name": "python"
    }
  },
  "cells": [
    {
      "cell_type": "code",
      "metadata": {
        "id": "njqJRu09R1HM",
        "colab": {
          "base_uri": "https://localhost:8080/"
        },
        "outputId": "4b83a440-598e-47d6-cfea-5e6f9efc5a8e"
      },
      "source": [
        "from google.colab import drive\n",
        "drive.mount('/content/drive')"
      ],
      "execution_count": null,
      "outputs": [
        {
          "output_type": "stream",
          "name": "stdout",
          "text": [
            "Mounted at /content/drive\n"
          ]
        }
      ]
    },
    {
      "cell_type": "code",
      "metadata": {
        "id": "jyLIzLWQnYmz"
      },
      "source": [
        "#ann_project\n",
        "#ann1\n",
        "import os\n",
        "import tensorflow as tf\n",
        "import keras \n",
        "from keras.models import Sequential\n",
        "from keras.layers import Conv2D, MaxPooling2D, Flatten, Dense, Dropout, BatchNormalization\n",
        "from PIL import Image\n",
        "import numpy as np\n",
        "import pandas as pd\n",
        "import matplotlib.pyplot as plt\n",
        "plt.style.use('dark_background')\n",
        "from sklearn.model_selection import train_test_split\n",
        "from sklearn.preprocessing import OneHotEncoder"
      ],
      "execution_count": null,
      "outputs": []
    },
    {
      "cell_type": "code",
      "metadata": {
        "colab": {
          "base_uri": "https://localhost:8080/"
        },
        "id": "tn6ArsFVntHW",
        "outputId": "3f426024-d88d-4eec-b5e3-2b5a16deef2b"
      },
      "source": [
        "encoder = OneHotEncoder()\n",
        "encoder.fit([[0], [1]])"
      ],
      "execution_count": null,
      "outputs": [
        {
          "output_type": "execute_result",
          "data": {
            "text/plain": [
              "OneHotEncoder()"
            ]
          },
          "metadata": {},
          "execution_count": 3
        }
      ]
    },
    {
      "cell_type": "code",
      "metadata": {
        "id": "dEZ-QvNBweSf"
      },
      "source": [
        "data = []\n",
        "paths = []\n",
        "result = []\n",
        "\n",
        "for r, d, f in os.walk(r'/content/drive/MyDrive/data_set/brain_tumor_dataset/yes'):\n",
        "    for file in f:\n",
        "        if '.jpg' in file:\n",
        "            paths.append(os.path.join(r, file))\n",
        "\n",
        "for path in paths:\n",
        "    img = Image.open(path)\n",
        "    img = img.resize((128,128))\n",
        "    img = np.array(img)\n",
        "    if(img.shape == (128,128,3)):\n",
        "        data.append(np.array(img))\n",
        "        result.append(encoder.transform([[0]]).toarray())"
      ],
      "execution_count": null,
      "outputs": []
    },
    {
      "cell_type": "code",
      "metadata": {
        "id": "2TwSToYpw4Kw"
      },
      "source": [
        "paths = []\n",
        "for r, d, f in os.walk(r\"/content/drive/MyDrive/data_set/brain_tumor_dataset/no\"):\n",
        "    for file in f:\n",
        "        if '.jpg' in file:\n",
        "            paths.append(os.path.join(r, file))\n",
        "\n",
        "for path in paths:\n",
        "    img = Image.open(path)\n",
        "    img = img.resize((128,128))\n",
        "    img = np.array(img)\n",
        "    if(img.shape == (128,128,3)):\n",
        "        data.append(np.array(img))\n",
        "        result.append(encoder.transform([[1]]).toarray())"
      ],
      "execution_count": null,
      "outputs": []
    },
    {
      "cell_type": "code",
      "metadata": {
        "colab": {
          "base_uri": "https://localhost:8080/"
        },
        "id": "XY43RYWKxU0f",
        "outputId": "3cf71b78-9acd-4640-ac5b-7d0e8c509732"
      },
      "source": [
        "data = np.array(data)\n",
        "data.shape"
      ],
      "execution_count": null,
      "outputs": [
        {
          "output_type": "execute_result",
          "data": {
            "text/plain": [
              "(139, 128, 128, 3)"
            ]
          },
          "metadata": {},
          "execution_count": 6
        }
      ]
    },
    {
      "cell_type": "code",
      "metadata": {
        "id": "RjpFCS88xbJD",
        "colab": {
          "base_uri": "https://localhost:8080/"
        },
        "outputId": "7a30a477-ee5b-4f88-fc74-cf9919909fa2"
      },
      "source": [
        "result = np.array(result)\n",
        "result = result.reshape(139,2)\n",
        "result.shape"
      ],
      "execution_count": null,
      "outputs": [
        {
          "output_type": "execute_result",
          "data": {
            "text/plain": [
              "(139, 2)"
            ]
          },
          "metadata": {},
          "execution_count": 7
        }
      ]
    },
    {
      "cell_type": "code",
      "metadata": {
        "id": "z8yQ-mCay2XF"
      },
      "source": [
        "x_train,x_test,y_train,y_test = train_test_split(data, result, test_size=0.2, shuffle=True, random_state=0)"
      ],
      "execution_count": null,
      "outputs": []
    },
    {
      "cell_type": "code",
      "metadata": {
        "id": "DSsE1gdIz6RH",
        "colab": {
          "base_uri": "https://localhost:8080/"
        },
        "outputId": "8071e38f-0685-4cfe-b9a8-aeb62a3dd2f9"
      },
      "source": [
        "#initialising the model\n",
        "#defining sequential i.e sequense of layers\n",
        "model = Sequential()\n",
        "\n",
        "#.add method to add layers into the model\n",
        "\n",
        "model.add(Conv2D(32, kernel_size=(2, 2), input_shape=(128, 128, 3), padding = 'Same'))\n",
        "\n",
        "\n",
        "\n",
        "model.add(BatchNormalization())\n",
        "model.add(MaxPooling2D(pool_size=(2, 2)))\n",
        "model.add(Dropout(0.25))\n",
        "\n",
        "model.add(Conv2D(64, kernel_size = (2,2), activation ='relu', padding = 'Same'))\n",
        "\n",
        "\n",
        "model.add(BatchNormalization())\n",
        "model.add(MaxPooling2D(pool_size=(2,2), strides=(2,2)))\n",
        "model.add(Dropout(0.25))\n",
        "\n",
        "model.add(Flatten())\n",
        "\n",
        "model.add(Dense(512, activation='relu'))\n",
        "model.add(Dropout(0.5))\n",
        "model.add(Dense(2, activation='softmax'))\n",
        "\n",
        "model.compile(loss = \"categorical_crossentropy\", optimizer='Adamax',metrics=['accuracy'])\n",
        "\n",
        "print(model.summary())"
      ],
      "execution_count": null,
      "outputs": [
        {
          "output_type": "stream",
          "name": "stdout",
          "text": [
            "Model: \"sequential\"\n",
            "_________________________________________________________________\n",
            " Layer (type)                Output Shape              Param #   \n",
            "=================================================================\n",
            " conv2d (Conv2D)             (None, 128, 128, 32)      416       \n",
            "                                                                 \n",
            " batch_normalization (BatchN  (None, 128, 128, 32)     128       \n",
            " ormalization)                                                   \n",
            "                                                                 \n",
            " max_pooling2d (MaxPooling2D  (None, 64, 64, 32)       0         \n",
            " )                                                               \n",
            "                                                                 \n",
            " dropout (Dropout)           (None, 64, 64, 32)        0         \n",
            "                                                                 \n",
            " conv2d_1 (Conv2D)           (None, 64, 64, 64)        8256      \n",
            "                                                                 \n",
            " batch_normalization_1 (Batc  (None, 64, 64, 64)       256       \n",
            " hNormalization)                                                 \n",
            "                                                                 \n",
            " max_pooling2d_1 (MaxPooling  (None, 32, 32, 64)       0         \n",
            " 2D)                                                             \n",
            "                                                                 \n",
            " dropout_1 (Dropout)         (None, 32, 32, 64)        0         \n",
            "                                                                 \n",
            " flatten (Flatten)           (None, 65536)             0         \n",
            "                                                                 \n",
            " dense (Dense)               (None, 512)               33554944  \n",
            "                                                                 \n",
            " dropout_2 (Dropout)         (None, 512)               0         \n",
            "                                                                 \n",
            " dense_1 (Dense)             (None, 2)                 1026      \n",
            "                                                                 \n",
            "=================================================================\n",
            "Total params: 33,565,026\n",
            "Trainable params: 33,564,834\n",
            "Non-trainable params: 192\n",
            "_________________________________________________________________\n",
            "None\n"
          ]
        }
      ]
    },
    {
      "cell_type": "code",
      "metadata": {
        "colab": {
          "base_uri": "https://localhost:8080/"
        },
        "id": "JB2MmfUHz8nc",
        "outputId": "960e106c-1010-42b4-ee33-e2388790b594"
      },
      "source": [
        "y_train.shape"
      ],
      "execution_count": null,
      "outputs": [
        {
          "output_type": "execute_result",
          "data": {
            "text/plain": [
              "(111, 2)"
            ]
          },
          "metadata": {},
          "execution_count": 10
        }
      ]
    },
    {
      "cell_type": "code",
      "metadata": {
        "colab": {
          "base_uri": "https://localhost:8080/"
        },
        "id": "bDeaC1CU0PEf",
        "outputId": "e2673767-99bc-415f-d10e-016b1ef0a4a8"
      },
      "source": [
        "history = model.fit(x_train, y_train, epochs = 50, batch_size = 40, verbose = 1,validation_data = (x_test, y_test))"
      ],
      "execution_count": null,
      "outputs": [
        {
          "output_type": "stream",
          "name": "stdout",
          "text": [
            "Epoch 1/50\n",
            "3/3 [==============================] - 5s 1s/step - loss: 61.1134 - accuracy: 0.5225 - val_loss: 56.8010 - val_accuracy: 0.6786\n",
            "Epoch 2/50\n",
            "3/3 [==============================] - 3s 1s/step - loss: 23.5360 - accuracy: 0.6937 - val_loss: 111.6711 - val_accuracy: 0.5000\n",
            "Epoch 3/50\n",
            "3/3 [==============================] - 3s 1s/step - loss: 23.7647 - accuracy: 0.6757 - val_loss: 85.2782 - val_accuracy: 0.5000\n",
            "Epoch 4/50\n",
            "3/3 [==============================] - 3s 1s/step - loss: 12.9292 - accuracy: 0.7477 - val_loss: 17.2849 - val_accuracy: 0.6786\n",
            "Epoch 5/50\n",
            "3/3 [==============================] - 3s 1s/step - loss: 14.2825 - accuracy: 0.7297 - val_loss: 12.0447 - val_accuracy: 0.6786\n",
            "Epoch 6/50\n",
            "3/3 [==============================] - 3s 1s/step - loss: 5.5470 - accuracy: 0.8108 - val_loss: 16.9830 - val_accuracy: 0.6429\n",
            "Epoch 7/50\n",
            "3/3 [==============================] - 3s 1s/step - loss: 5.5703 - accuracy: 0.8559 - val_loss: 12.1199 - val_accuracy: 0.6786\n",
            "Epoch 8/50\n",
            "3/3 [==============================] - 3s 1s/step - loss: 2.6591 - accuracy: 0.8919 - val_loss: 5.1362 - val_accuracy: 0.7143\n",
            "Epoch 9/50\n",
            "3/3 [==============================] - 3s 1s/step - loss: 3.4050 - accuracy: 0.8198 - val_loss: 5.0795 - val_accuracy: 0.7500\n",
            "Epoch 10/50\n",
            "3/3 [==============================] - 3s 1s/step - loss: 2.2387 - accuracy: 0.8829 - val_loss: 3.5107 - val_accuracy: 0.7857\n",
            "Epoch 11/50\n",
            "3/3 [==============================] - 3s 1s/step - loss: 0.9241 - accuracy: 0.9279 - val_loss: 3.7360 - val_accuracy: 0.7500\n",
            "Epoch 12/50\n",
            "3/3 [==============================] - 3s 1s/step - loss: 0.7411 - accuracy: 0.9369 - val_loss: 3.5803 - val_accuracy: 0.7143\n",
            "Epoch 13/50\n",
            "3/3 [==============================] - 3s 1s/step - loss: 0.5011 - accuracy: 0.9550 - val_loss: 3.0055 - val_accuracy: 0.7143\n",
            "Epoch 14/50\n",
            "3/3 [==============================] - 4s 1s/step - loss: 0.1887 - accuracy: 0.9730 - val_loss: 2.8988 - val_accuracy: 0.7143\n",
            "Epoch 15/50\n",
            "3/3 [==============================] - 4s 1s/step - loss: 0.3607 - accuracy: 0.9640 - val_loss: 2.7938 - val_accuracy: 0.7143\n",
            "Epoch 16/50\n",
            "3/3 [==============================] - 3s 1s/step - loss: 0.4140 - accuracy: 0.9550 - val_loss: 3.1636 - val_accuracy: 0.7857\n",
            "Epoch 17/50\n",
            "3/3 [==============================] - 4s 1s/step - loss: 0.0767 - accuracy: 0.9820 - val_loss: 4.3309 - val_accuracy: 0.7143\n",
            "Epoch 18/50\n",
            "3/3 [==============================] - 3s 1s/step - loss: 0.0941 - accuracy: 0.9820 - val_loss: 4.8080 - val_accuracy: 0.7500\n",
            "Epoch 19/50\n",
            "3/3 [==============================] - 3s 1s/step - loss: 0.1944 - accuracy: 0.9910 - val_loss: 4.6306 - val_accuracy: 0.7500\n",
            "Epoch 20/50\n",
            "3/3 [==============================] - 3s 1s/step - loss: 0.0645 - accuracy: 0.9910 - val_loss: 4.1388 - val_accuracy: 0.7500\n",
            "Epoch 21/50\n",
            "3/3 [==============================] - 3s 1s/step - loss: 0.5436 - accuracy: 0.9550 - val_loss: 2.4994 - val_accuracy: 0.7500\n",
            "Epoch 22/50\n",
            "3/3 [==============================] - 3s 1s/step - loss: 0.0565 - accuracy: 0.9820 - val_loss: 1.7840 - val_accuracy: 0.8571\n",
            "Epoch 23/50\n",
            "3/3 [==============================] - 3s 1s/step - loss: 0.0199 - accuracy: 0.9910 - val_loss: 1.8916 - val_accuracy: 0.7857\n",
            "Epoch 24/50\n",
            "3/3 [==============================] - 3s 1s/step - loss: 0.1011 - accuracy: 0.9910 - val_loss: 2.2984 - val_accuracy: 0.8214\n",
            "Epoch 25/50\n",
            "3/3 [==============================] - 3s 1s/step - loss: 0.3332 - accuracy: 0.9730 - val_loss: 2.2455 - val_accuracy: 0.8214\n",
            "Epoch 26/50\n",
            "3/3 [==============================] - 3s 1s/step - loss: 0.0269 - accuracy: 0.9910 - val_loss: 1.8293 - val_accuracy: 0.8214\n",
            "Epoch 27/50\n",
            "3/3 [==============================] - 3s 1s/step - loss: 0.0351 - accuracy: 0.9910 - val_loss: 1.8522 - val_accuracy: 0.8214\n",
            "Epoch 28/50\n",
            "3/3 [==============================] - 3s 1s/step - loss: 1.6058e-05 - accuracy: 1.0000 - val_loss: 2.2647 - val_accuracy: 0.7500\n",
            "Epoch 29/50\n",
            "3/3 [==============================] - 3s 1s/step - loss: 0.0827 - accuracy: 0.9820 - val_loss: 2.4462 - val_accuracy: 0.7500\n",
            "Epoch 30/50\n",
            "3/3 [==============================] - 3s 1s/step - loss: 0.0113 - accuracy: 1.0000 - val_loss: 2.3077 - val_accuracy: 0.7500\n",
            "Epoch 31/50\n",
            "3/3 [==============================] - 3s 1s/step - loss: 0.0526 - accuracy: 0.9820 - val_loss: 2.1972 - val_accuracy: 0.7500\n",
            "Epoch 32/50\n",
            "3/3 [==============================] - 3s 1s/step - loss: 1.0685e-04 - accuracy: 1.0000 - val_loss: 2.1257 - val_accuracy: 0.7500\n",
            "Epoch 33/50\n",
            "3/3 [==============================] - 3s 1s/step - loss: 0.0013 - accuracy: 1.0000 - val_loss: 2.0610 - val_accuracy: 0.7500\n",
            "Epoch 34/50\n",
            "3/3 [==============================] - 3s 1s/step - loss: 4.9329e-04 - accuracy: 1.0000 - val_loss: 1.9954 - val_accuracy: 0.7857\n",
            "Epoch 35/50\n",
            "3/3 [==============================] - 3s 1s/step - loss: 4.4676e-04 - accuracy: 1.0000 - val_loss: 1.9355 - val_accuracy: 0.7857\n",
            "Epoch 36/50\n",
            "3/3 [==============================] - 3s 1s/step - loss: 8.5437e-06 - accuracy: 1.0000 - val_loss: 1.8944 - val_accuracy: 0.7857\n",
            "Epoch 37/50\n",
            "3/3 [==============================] - 3s 1s/step - loss: 1.4326e-04 - accuracy: 1.0000 - val_loss: 1.8652 - val_accuracy: 0.7857\n",
            "Epoch 38/50\n",
            "3/3 [==============================] - 3s 1s/step - loss: 4.0215e-06 - accuracy: 1.0000 - val_loss: 1.8439 - val_accuracy: 0.7857\n",
            "Epoch 39/50\n",
            "3/3 [==============================] - 3s 1s/step - loss: 1.9099e-05 - accuracy: 1.0000 - val_loss: 1.8296 - val_accuracy: 0.8214\n",
            "Epoch 40/50\n",
            "3/3 [==============================] - 3s 1s/step - loss: 1.7102e-04 - accuracy: 1.0000 - val_loss: 1.8193 - val_accuracy: 0.8571\n",
            "Epoch 41/50\n",
            "3/3 [==============================] - 3s 1s/step - loss: 0.0074 - accuracy: 1.0000 - val_loss: 1.8291 - val_accuracy: 0.8571\n",
            "Epoch 42/50\n",
            "3/3 [==============================] - 3s 1s/step - loss: 2.7844e-06 - accuracy: 1.0000 - val_loss: 1.8403 - val_accuracy: 0.8214\n",
            "Epoch 43/50\n",
            "3/3 [==============================] - 3s 1s/step - loss: 6.5973e-06 - accuracy: 1.0000 - val_loss: 1.8509 - val_accuracy: 0.8214\n",
            "Epoch 44/50\n",
            "3/3 [==============================] - 3s 1s/step - loss: 9.2695e-04 - accuracy: 1.0000 - val_loss: 1.8485 - val_accuracy: 0.8214\n",
            "Epoch 45/50\n",
            "3/3 [==============================] - 3s 1s/step - loss: 2.6614e-05 - accuracy: 1.0000 - val_loss: 1.8474 - val_accuracy: 0.8571\n",
            "Epoch 46/50\n",
            "3/3 [==============================] - 3s 1s/step - loss: 2.8876e-06 - accuracy: 1.0000 - val_loss: 1.8492 - val_accuracy: 0.8571\n",
            "Epoch 47/50\n",
            "3/3 [==============================] - 3s 1s/step - loss: 4.4891e-07 - accuracy: 1.0000 - val_loss: 1.8537 - val_accuracy: 0.8571\n",
            "Epoch 48/50\n",
            "3/3 [==============================] - 3s 1s/step - loss: 1.6686e-05 - accuracy: 1.0000 - val_loss: 1.8596 - val_accuracy: 0.8571\n",
            "Epoch 49/50\n",
            "3/3 [==============================] - 3s 1s/step - loss: 2.5955e-06 - accuracy: 1.0000 - val_loss: 1.8675 - val_accuracy: 0.8571\n",
            "Epoch 50/50\n",
            "3/3 [==============================] - 3s 1s/step - loss: 2.0526e-05 - accuracy: 1.0000 - val_loss: 1.8765 - val_accuracy: 0.8571\n"
          ]
        }
      ]
    },
    {
      "cell_type": "code",
      "metadata": {
        "id": "jQ5SlF6TRmBE"
      },
      "source": [
        "tf.keras.models.save_model(model,'my_model2.hdf5')"
      ],
      "execution_count": null,
      "outputs": []
    },
    {
      "cell_type": "code",
      "metadata": {
        "colab": {
          "base_uri": "https://localhost:8080/",
          "height": 300
        },
        "id": "rN-43E7_y_tw",
        "outputId": "51d82748-c0e6-40e2-91dd-2d84435812cb"
      },
      "source": [
        "plt.plot(history.history['accuracy'], label='accuracy')\n",
        "plt.plot(history.history['val_accuracy'], label = 'val_accuracy')\n",
        "plt.xlabel('Epoch')\n",
        "plt.ylabel('Accuracy')\n",
        "plt.ylim([0.5, 1])\n",
        "plt.legend(loc='lower right')"
      ],
      "execution_count": null,
      "outputs": [
        {
          "output_type": "execute_result",
          "data": {
            "text/plain": [
              "<matplotlib.legend.Legend at 0x7fa1ebdf5b10>"
            ]
          },
          "metadata": {},
          "execution_count": 12
        },
        {
          "output_type": "display_data",
          "data": {
            "image/png": "[encoded data removed]",
            "text/plain": [
              "<Figure size 432x288 with 1 Axes>"
            ]
          },
          "metadata": {}
        }
      ]
    },
    {
      "cell_type": "code",
      "metadata": {
        "colab": {
          "base_uri": "https://localhost:8080/"
        },
        "id": "lRd2URahzrNk",
        "outputId": "cbfc74f9-f0e5-48b7-ee6a-8468f93aa797"
      },
      "source": [
        "test_loss, test_acc = model.evaluate(x_test, y_test, verbose=2)"
      ],
      "execution_count": null,
      "outputs": [
        {
          "output_type": "stream",
          "name": "stdout",
          "text": [
            "1/1 - 0s - loss: 1.8765 - accuracy: 0.8571 - 196ms/epoch - 196ms/step\n"
          ]
        }
      ]
    },
    {
      "cell_type": "code",
      "metadata": {
        "colab": {
          "base_uri": "https://localhost:8080/"
        },
        "id": "n6LMQrtJ0BVf",
        "outputId": "8cb8fe28-2080-4635-9c44-27a418f0d723"
      },
      "source": [
        "print(f\"{(test_acc)*100}%    {test_loss}\")"
      ],
      "execution_count": null,
      "outputs": [
        {
          "output_type": "stream",
          "name": "stdout",
          "text": [
            "85.71428656578064%    1.8764649629592896\n"
          ]
        }
      ]
    },
    {
      "cell_type": "code",
      "metadata": {
        "colab": {
          "base_uri": "https://localhost:8080/",
          "height": 295
        },
        "id": "EMNwy5Uf1H8n",
        "outputId": "cafc2d88-9cde-4268-ceb0-6083e6bf682f"
      },
      "source": [
        "plt.plot(history.history['loss'])\n",
        "plt.plot(history.history['val_loss'])\n",
        "plt.title('Model Loss')\n",
        "plt.ylabel('Loss')\n",
        "plt.xlabel('Epoch')\n",
        "plt.legend(['Test', 'Validation'], loc='upper right')\n",
        "plt.show()"
      ],
      "execution_count": null,
      "outputs": [
        {
          "output_type": "display_data",
          "data": {
            "image/png": "[encoded data removed]",
            "text/plain": [
              "<Figure size 432x288 with 1 Axes>"
            ]
          },
          "metadata": {}
        }
      ]
    },
    {
      "cell_type": "code",
      "metadata": {
        "id": "YAXoWm4k1Xft"
      },
      "source": [
        "def names(number):\n",
        "    if number==0:\n",
        "        return 'Its a Tumor'\n",
        "    else:\n",
        "        return 'No, Its not a tumor'"
      ],
      "execution_count": null,
      "outputs": []
    },
    {
      "cell_type": "code",
      "metadata": {
        "colab": {
          "base_uri": "https://localhost:8080/",
          "height": 1000
        },
        "id": "1w4HNtZpDLmV",
        "outputId": "a0f7e588-f982-4bfa-ccbc-24d6bb84609e"
      },
      "source": [
        "!pip install streamlit"
      ],
      "execution_count": null,
      "outputs": [
        {
          "output_type": "stream",
          "name": "stdout",
          "text": [
            "Collecting streamlit\n",
            "  Using cached streamlit-1.2.0-py2.py3-none-any.whl (9.1 MB)\n",
            "Requirement already satisfied: cachetools>=4.0 in /usr/local/lib/python3.7/dist-packages (from streamlit) (4.2.4)\n",
            "Collecting blinker\n",
            "  Downloading blinker-1.4.tar.gz (111 kB)\n",
            "\u001b[K     |████████████████████████████████| 111 kB 5.2 MB/s \n",
            "\u001b[?25hRequirement already satisfied: tzlocal in /usr/local/lib/python3.7/dist-packages (from streamlit) (1.5.1)\n",
            "Requirement already satisfied: pyarrow in /usr/local/lib/python3.7/dist-packages (from streamlit) (3.0.0)\n",
            "Requirement already satisfied: protobuf!=3.11,>=3.6.0 in /usr/local/lib/python3.7/dist-packages (from streamlit) (3.17.3)\n",
            "Requirement already satisfied: click<8.0,>=7.0 in /usr/local/lib/python3.7/dist-packages (from streamlit) (7.1.2)\n",
            "Requirement already satisfied: toml in /usr/local/lib/python3.7/dist-packages (from streamlit) (0.10.2)\n",
            "Collecting watchdog\n",
            "  Downloading watchdog-2.1.6-py3-none-manylinux2014_x86_64.whl (76 kB)\n",
            "\u001b[K     |████████████████████████████████| 76 kB 4.7 MB/s \n",
            "\u001b[?25hCollecting base58\n",
            "  Using cached base58-2.1.1-py3-none-any.whl (5.6 kB)\n",
            "Requirement already satisfied: attrs in /usr/local/lib/python3.7/dist-packages (from streamlit) (21.2.0)\n",
            "Collecting pympler>=0.9\n",
            "  Downloading Pympler-0.9.tar.gz (178 kB)\n",
            "\u001b[K     |████████████████████████████████| 178 kB 48.7 MB/s \n",
            "\u001b[?25hCollecting validators\n",
            "  Downloading validators-0.18.2-py3-none-any.whl (19 kB)\n",
            "Collecting pydeck>=0.1.dev5\n",
            "  Downloading pydeck-0.7.1-py2.py3-none-any.whl (4.3 MB)\n",
            "\u001b[K     |████████████████████████████████| 4.3 MB 27.7 MB/s \n",
            "\u001b[?25hRequirement already satisfied: python-dateutil in /usr/local/lib/python3.7/dist-packages (from streamlit) (2.8.2)\n",
            "Requirement already satisfied: requests in /usr/local/lib/python3.7/dist-packages (from streamlit) (2.23.0)\n",
            "Requirement already satisfied: astor in /usr/local/lib/python3.7/dist-packages (from streamlit) (0.8.1)\n",
            "Collecting gitpython!=3.1.19\n",
            "  Downloading GitPython-3.1.24-py3-none-any.whl (180 kB)\n",
            "\u001b[K     |████████████████████████████████| 180 kB 47.7 MB/s \n",
            "\u001b[?25hRequirement already satisfied: numpy in /usr/local/lib/python3.7/dist-packages (from streamlit) (1.19.5)\n",
            "Requirement already satisfied: pandas>=0.21.0 in /usr/local/lib/python3.7/dist-packages (from streamlit) (1.1.5)\n",
            "Requirement already satisfied: packaging in /usr/local/lib/python3.7/dist-packages (from streamlit) (21.3)\n",
            "Requirement already satisfied: altair>=3.2.0 in /usr/local/lib/python3.7/dist-packages (from streamlit) (4.1.0)\n",
            "Requirement already satisfied: tornado>=5.0 in /usr/local/lib/python3.7/dist-packages (from streamlit) (5.1.1)\n",
            "Requirement already satisfied: pillow>=6.2.0 in /usr/local/lib/python3.7/dist-packages (from streamlit) (7.1.2)\n",
            "Requirement already satisfied: toolz in /usr/local/lib/python3.7/dist-packages (from altair>=3.2.0->streamlit) (0.11.2)\n",
            "Requirement already satisfied: entrypoints in /usr/local/lib/python3.7/dist-packages (from altair>=3.2.0->streamlit) (0.3)\n",
            "Requirement already satisfied: jsonschema in /usr/local/lib/python3.7/dist-packages (from altair>=3.2.0->streamlit) (2.6.0)\n",
            "Requirement already satisfied: jinja2 in /usr/local/lib/python3.7/dist-packages (from altair>=3.2.0->streamlit) (2.11.3)\n",
            "Collecting gitdb<5,>=4.0.1\n",
            "  Downloading gitdb-4.0.9-py3-none-any.whl (63 kB)\n",
            "\u001b[K     |████████████████████████████████| 63 kB 1.6 MB/s \n",
            "\u001b[?25hRequirement already satisfied: typing-extensions>=3.7.4.3 in /usr/local/lib/python3.7/dist-packages (from gitpython!=3.1.19->streamlit) (3.10.0.2)\n",
            "Collecting smmap<6,>=3.0.1\n",
            "  Downloading smmap-5.0.0-py3-none-any.whl (24 kB)\n",
            "Requirement already satisfied: pytz>=2017.2 in /usr/local/lib/python3.7/dist-packages (from pandas>=0.21.0->streamlit) (2018.9)\n",
            "Requirement already satisfied: six>=1.9 in /usr/local/lib/python3.7/dist-packages (from protobuf!=3.11,>=3.6.0->streamlit) (1.15.0)\n",
            "Requirement already satisfied: ipywidgets>=7.0.0 in /usr/local/lib/python3.7/dist-packages (from pydeck>=0.1.dev5->streamlit) (7.6.5)\n",
            "Collecting ipykernel>=5.1.2\n",
            "  Downloading ipykernel-6.5.1-py3-none-any.whl (125 kB)\n",
            "\u001b[K     |████████████████████████████████| 125 kB 56.3 MB/s \n",
            "\u001b[?25hRequirement already satisfied: traitlets>=4.3.2 in /usr/local/lib/python3.7/dist-packages (from pydeck>=0.1.dev5->streamlit) (5.1.1)\n",
            "Requirement already satisfied: importlib-metadata<5 in /usr/local/lib/python3.7/dist-packages (from ipykernel>=5.1.2->pydeck>=0.1.dev5->streamlit) (4.8.2)\n",
            "Requirement already satisfied: matplotlib-inline<0.2.0,>=0.1.0 in /usr/local/lib/python3.7/dist-packages (from ipykernel>=5.1.2->pydeck>=0.1.dev5->streamlit) (0.1.3)\n",
            "Collecting ipython>=7.23.1\n",
            "  Downloading ipython-7.29.0-py3-none-any.whl (790 kB)\n",
            "\u001b[K     |████████████████████████████████| 790 kB 66.0 MB/s \n",
            "\u001b[?25hRequirement already satisfied: argcomplete>=1.12.3 in /usr/local/lib/python3.7/dist-packages (from ipykernel>=5.1.2->pydeck>=0.1.dev5->streamlit) (1.12.3)\n",
            "Requirement already satisfied: debugpy<2.0,>=1.0.0 in /usr/local/lib/python3.7/dist-packages (from ipykernel>=5.1.2->pydeck>=0.1.dev5->streamlit) (1.0.0)\n",
            "Requirement already satisfied: jupyter-client<8.0 in /usr/local/lib/python3.7/dist-packages (from ipykernel>=5.1.2->pydeck>=0.1.dev5->streamlit) (5.3.5)\n",
            "Requirement already satisfied: zipp>=0.5 in /usr/local/lib/python3.7/dist-packages (from importlib-metadata<5->ipykernel>=5.1.2->pydeck>=0.1.dev5->streamlit) (3.6.0)\n",
            "Requirement already satisfied: pygments in /usr/local/lib/python3.7/dist-packages (from ipython>=7.23.1->ipykernel>=5.1.2->pydeck>=0.1.dev5->streamlit) (2.6.1)\n",
            "Requirement already satisfied: jedi>=0.16 in /usr/local/lib/python3.7/dist-packages (from ipython>=7.23.1->ipykernel>=5.1.2->pydeck>=0.1.dev5->streamlit) (0.18.1)\n",
            "Requirement already satisfied: pexpect>4.3 in /usr/local/lib/python3.7/dist-packages (from ipython>=7.23.1->ipykernel>=5.1.2->pydeck>=0.1.dev5->streamlit) (4.8.0)\n",
            "Requirement already satisfied: setuptools>=18.5 in /usr/local/lib/python3.7/dist-packages (from ipython>=7.23.1->ipykernel>=5.1.2->pydeck>=0.1.dev5->streamlit) (57.4.0)\n",
            "Collecting prompt-toolkit!=3.0.0,!=3.0.1,<3.1.0,>=2.0.0\n",
            "  Downloading prompt_toolkit-3.0.22-py3-none-any.whl (374 kB)\n",
            "\u001b[K     |████████████████████████████████| 374 kB 73.4 MB/s \n",
            "\u001b[?25hRequirement already satisfied: backcall in /usr/local/lib/python3.7/dist-packages (from ipython>=7.23.1->ipykernel>=5.1.2->pydeck>=0.1.dev5->streamlit) (0.2.0)\n",
            "Requirement already satisfied: decorator in /usr/local/lib/python3.7/dist-packages (from ipython>=7.23.1->ipykernel>=5.1.2->pydeck>=0.1.dev5->streamlit) (4.4.2)\n",
            "Requirement already satisfied: pickleshare in /usr/local/lib/python3.7/dist-packages (from ipython>=7.23.1->ipykernel>=5.1.2->pydeck>=0.1.dev5->streamlit) (0.7.5)\n",
            "Requirement already satisfied: jupyterlab-widgets>=1.0.0 in /usr/local/lib/python3.7/dist-packages (from ipywidgets>=7.0.0->pydeck>=0.1.dev5->streamlit) (1.0.2)\n",
            "Requirement already satisfied: nbformat>=4.2.0 in /usr/local/lib/python3.7/dist-packages (from ipywidgets>=7.0.0->pydeck>=0.1.dev5->streamlit) (5.1.3)\n",
            "Requirement already satisfied: ipython-genutils~=0.2.0 in /usr/local/lib/python3.7/dist-packages (from ipywidgets>=7.0.0->pydeck>=0.1.dev5->streamlit) (0.2.0)\n",
            "Requirement already satisfied: widgetsnbextension~=3.5.0 in /usr/local/lib/python3.7/dist-packages (from ipywidgets>=7.0.0->pydeck>=0.1.dev5->streamlit) (3.5.2)\n",
            "Requirement already satisfied: parso<0.9.0,>=0.8.0 in /usr/local/lib/python3.7/dist-packages (from jedi>=0.16->ipython>=7.23.1->ipykernel>=5.1.2->pydeck>=0.1.dev5->streamlit) (0.8.2)\n",
            "Requirement already satisfied: MarkupSafe>=0.23 in /usr/local/lib/python3.7/dist-packages (from jinja2->altair>=3.2.0->streamlit) (2.0.1)\n",
            "Requirement already satisfied: jupyter-core>=4.6.0 in /usr/local/lib/python3.7/dist-packages (from jupyter-client<8.0->ipykernel>=5.1.2->pydeck>=0.1.dev5->streamlit) (4.9.1)\n",
            "Requirement already satisfied: pyzmq>=13 in /usr/local/lib/python3.7/dist-packages (from jupyter-client<8.0->ipykernel>=5.1.2->pydeck>=0.1.dev5->streamlit) (22.3.0)\n",
            "Requirement already satisfied: ptyprocess>=0.5 in /usr/local/lib/python3.7/dist-packages (from pexpect>4.3->ipython>=7.23.1->ipykernel>=5.1.2->pydeck>=0.1.dev5->streamlit) (0.7.0)\n",
            "Requirement already satisfied: wcwidth in /usr/local/lib/python3.7/dist-packages (from prompt-toolkit!=3.0.0,!=3.0.1,<3.1.0,>=2.0.0->ipython>=7.23.1->ipykernel>=5.1.2->pydeck>=0.1.dev5->streamlit) (0.2.5)\n",
            "Requirement already satisfied: notebook>=4.4.1 in /usr/local/lib/python3.7/dist-packages (from widgetsnbextension~=3.5.0->ipywidgets>=7.0.0->pydeck>=0.1.dev5->streamlit) (5.3.1)\n",
            "Requirement already satisfied: Send2Trash in /usr/local/lib/python3.7/dist-packages (from notebook>=4.4.1->widgetsnbextension~=3.5.0->ipywidgets>=7.0.0->pydeck>=0.1.dev5->streamlit) (1.8.0)\n",
            "Requirement already satisfied: nbconvert in /usr/local/lib/python3.7/dist-packages (from notebook>=4.4.1->widgetsnbextension~=3.5.0->ipywidgets>=7.0.0->pydeck>=0.1.dev5->streamlit) (5.6.1)\n",
            "Requirement already satisfied: terminado>=0.8.1 in /usr/local/lib/python3.7/dist-packages (from notebook>=4.4.1->widgetsnbextension~=3.5.0->ipywidgets>=7.0.0->pydeck>=0.1.dev5->streamlit) (0.12.1)\n",
            "Requirement already satisfied: defusedxml in /usr/local/lib/python3.7/dist-packages (from nbconvert->notebook>=4.4.1->widgetsnbextension~=3.5.0->ipywidgets>=7.0.0->pydeck>=0.1.dev5->streamlit) (0.7.1)\n",
            "Requirement already satisfied: mistune<2,>=0.8.1 in /usr/local/lib/python3.7/dist-packages (from nbconvert->notebook>=4.4.1->widgetsnbextension~=3.5.0->ipywidgets>=7.0.0->pydeck>=0.1.dev5->streamlit) (0.8.4)\n",
            "Requirement already satisfied: bleach in /usr/local/lib/python3.7/dist-packages (from nbconvert->notebook>=4.4.1->widgetsnbextension~=3.5.0->ipywidgets>=7.0.0->pydeck>=0.1.dev5->streamlit) (4.1.0)\n",
            "Requirement already satisfied: testpath in /usr/local/lib/python3.7/dist-packages (from nbconvert->notebook>=4.4.1->widgetsnbextension~=3.5.0->ipywidgets>=7.0.0->pydeck>=0.1.dev5->streamlit) (0.5.0)\n",
            "Requirement already satisfied: pandocfilters>=1.4.1 in /usr/local/lib/python3.7/dist-packages (from nbconvert->notebook>=4.4.1->widgetsnbextension~=3.5.0->ipywidgets>=7.0.0->pydeck>=0.1.dev5->streamlit) (1.5.0)\n",
            "Requirement already satisfied: webencodings in /usr/local/lib/python3.7/dist-packages (from bleach->nbconvert->notebook>=4.4.1->widgetsnbextension~=3.5.0->ipywidgets>=7.0.0->pydeck>=0.1.dev5->streamlit) (0.5.1)\n",
            "Requirement already satisfied: pyparsing!=3.0.5,>=2.0.2 in /usr/local/lib/python3.7/dist-packages (from packaging->streamlit) (3.0.6)\n",
            "Requirement already satisfied: urllib3!=1.25.0,!=1.25.1,<1.26,>=1.21.1 in /usr/local/lib/python3.7/dist-packages (from requests->streamlit) (1.24.3)\n",
            "Requirement already satisfied: chardet<4,>=3.0.2 in /usr/local/lib/python3.7/dist-packages (from requests->streamlit) (3.0.4)\n",
            "Requirement already satisfied: certifi>=2017.4.17 in /usr/local/lib/python3.7/dist-packages (from requests->streamlit) (2021.10.8)\n",
            "Requirement already satisfied: idna<3,>=2.5 in /usr/local/lib/python3.7/dist-packages (from requests->streamlit) (2.10)\n",
            "Building wheels for collected packages: pympler, blinker\n",
            "  Building wheel for pympler (setup.py) ... \u001b[?25l\u001b[?25hdone\n",
            "  Created wheel for pympler: filename=Pympler-0.9-py3-none-any.whl size=164824 sha256=8b73da46bc86acffe8cd6e149d89d652c78a4141494ef15a846ae6a713ef5896\n",
            "  Stored in directory: /root/.cache/pip/wheels/1a/f3/d8/35d5614ea4ddd295ffb9372a5f2f9570d9593d1ea4be33ec6d\n",
            "  Building wheel for blinker (setup.py) ... \u001b[?25l\u001b[?25hdone\n",
            "  Created wheel for blinker: filename=blinker-1.4-py3-none-any.whl size=13478 sha256=11f89434789ec344780374a34d9a20a7f09c6ead6289f0a28e3a0825d368a780\n",
            "  Stored in directory: /root/.cache/pip/wheels/22/f5/18/df711b66eb25b21325c132757d4314db9ac5e8dabeaf196eab\n",
            "Successfully built pympler blinker\n",
            "Installing collected packages: prompt-toolkit, ipython, ipykernel, smmap, gitdb, watchdog, validators, pympler, pydeck, gitpython, blinker, base58, streamlit\n",
            "  Attempting uninstall: prompt-toolkit\n",
            "    Found existing installation: prompt-toolkit 1.0.18\n",
            "    Uninstalling prompt-toolkit-1.0.18:\n",
            "      Successfully uninstalled prompt-toolkit-1.0.18\n",
            "  Attempting uninstall: ipython\n",
            "    Found existing installation: ipython 5.5.0\n",
            "    Uninstalling ipython-5.5.0:\n",
            "      Successfully uninstalled ipython-5.5.0\n",
            "  Attempting uninstall: ipykernel\n",
            "    Found existing installation: ipykernel 4.10.1\n",
            "    Uninstalling ipykernel-4.10.1:\n",
            "      Successfully uninstalled ipykernel-4.10.1\n",
            "\u001b[31mERROR: pip's dependency resolver does not currently take into account all the packages that are installed. This behaviour is the source of the following dependency conflicts.\n",
            "jupyter-console 5.2.0 requires prompt-toolkit<2.0.0,>=1.0.0, but you have prompt-toolkit 3.0.22 which is incompatible.\n",
            "google-colab 1.0.0 requires ipykernel~=4.10, but you have ipykernel 6.5.1 which is incompatible.\n",
            "google-colab 1.0.0 requires ipython~=5.5.0, but you have ipython 7.29.0 which is incompatible.\u001b[0m\n",
            "Successfully installed base58-2.1.1 blinker-1.4 gitdb-4.0.9 gitpython-3.1.24 ipykernel-6.5.1 ipython-7.29.0 prompt-toolkit-3.0.22 pydeck-0.7.1 pympler-0.9 smmap-5.0.0 streamlit-1.2.0 validators-0.18.2 watchdog-2.1.6\n"
          ]
        },
        {
          "output_type": "display_data",
          "data": {
            "application/vnd.colab-display-data+json": {
              "pip_warning": {
                "packages": [
                  "IPython",
                  "ipykernel",
                  "prompt_toolkit"
                ]
              }
            }
          },
          "metadata": {}
        }
      ]
    },
    {
      "cell_type": "code",
      "metadata": {
        "colab": {
          "base_uri": "https://localhost:8080/"
        },
        "id": "BdR5RDYDT6DB",
        "outputId": "43642a3f-7ac1-4492-e649-4bdc04110db4"
      },
      "source": [
        "%%writefile app.py\n",
        "import streamlit as st\n",
        "import tensorflow as tf\n",
        "import streamlit as st\n",
        "@st.cache(allow_output_mutation=True)\n",
        "def load_model():\n",
        "  model=tf.keras.models.load_model('/content/my_model2.hdf5')\n",
        "  return model\n",
        "with st.spinner('Model is being loaded..'):\n",
        "  model=load_model()\n",
        "\n",
        "st.write(\"\"\"\n",
        "         # Flower Classification\n",
        "         \"\"\"\n",
        "         )\n",
        "\n",
        "file = st.file_uploader(\"Please upload an brain scan file\", type=[\"jpg\", \"png\"])\n",
        "import cv2\n",
        "from PIL import Image, ImageOps\n",
        "st.set_option('deprecation.showfileUploaderEncoding', False)\n",
        "def import_and_predict(image_data, model):\n",
        "        size = (128,128)    \n",
        "        image = ImageOps.fit(image_data, size, Image.ANTIALIAS)\n",
        "        image = np.asarray(image)\n",
        "        img = cv2.cvtColor(image, cv2.COLOR_BGR2RGB)\n",
        "        #img_resize = (cv2.resize(img, dsize=(75, 75),    interpolation=cv2.INTER_CUBIC))/255.\n",
        "        \n",
        "        img_reshape = img[np.newaxis,...]\n",
        "    \n",
        "        prediction = model.predict(img_reshape)\n",
        "        \n",
        "        return prediction\n"
      ],
      "execution_count": null,
      "outputs": [
        {
          "output_type": "stream",
          "name": "stdout",
          "text": [
            "Writing app.py\n"
          ]
        }
      ]
    },
    {
      "cell_type": "code",
      "metadata": {
        "colab": {
          "base_uri": "https://localhost:8080/",
          "height": 235
        },
        "id": "eMkw0C58VULf",
        "outputId": "acb3f72e-50ca-4555-b9d5-687bc797ec6a"
      },
      "source": [
        "if file is None:\n",
        "    st.text(\"Please upload an image file\")\n",
        "else:\n",
        "    image = Image.open(r\"/content/drive/MyDrive/data_set/brain_tumor_dataset/yes/Y153.jpg\")\n",
        "    st.image(image, use_column_width=True)\n",
        "    predictions = import_and_predict(image, model)\n",
        "    score = tf.nn.softmax(predictions[0])\n",
        "    st.write(prediction)\n",
        "    st.write(score)\n",
        "    print(\"This image most likely belongs to {} with a {:.2f} percent confidence.\".format(class_names[np.argmax(score)], 100 * np.max(score)))"
      ],
      "execution_count": null,
      "outputs": [
        {
          "output_type": "error",
          "ename": "NameError",
          "evalue": "ignored",
          "traceback": [
            "\u001b[0;31m---------------------------------------------------------------------------\u001b[0m",
            "\u001b[0;31mNameError\u001b[0m                                 Traceback (most recent call last)",
            "\u001b[0;32m<ipython-input-22-5095921899b6>\u001b[0m in \u001b[0;36m<module>\u001b[0;34m()\u001b[0m\n\u001b[1;32m      4\u001b[0m     \u001b[0mimage\u001b[0m \u001b[0;34m=\u001b[0m \u001b[0mImage\u001b[0m\u001b[0;34m.\u001b[0m\u001b[0mopen\u001b[0m\u001b[0;34m(\u001b[0m\u001b[0;34mr\"/content/drive/MyDrive/data_set/brain_tumor_dataset/yes/Y153.jpg\"\u001b[0m\u001b[0;34m)\u001b[0m\u001b[0;34m\u001b[0m\u001b[0;34m\u001b[0m\u001b[0m\n\u001b[1;32m      5\u001b[0m     \u001b[0;31m#st.image(image, use_column_width=True)\u001b[0m\u001b[0;34m\u001b[0m\u001b[0;34m\u001b[0m\u001b[0;34m\u001b[0m\u001b[0m\n\u001b[0;32m----> 6\u001b[0;31m     \u001b[0mpredictions\u001b[0m \u001b[0;34m=\u001b[0m \u001b[0mimport_and_predict\u001b[0m\u001b[0;34m(\u001b[0m\u001b[0mimage\u001b[0m\u001b[0;34m,\u001b[0m \u001b[0mmodel\u001b[0m\u001b[0;34m)\u001b[0m\u001b[0;34m\u001b[0m\u001b[0;34m\u001b[0m\u001b[0m\n\u001b[0m\u001b[1;32m      7\u001b[0m     \u001b[0mscore\u001b[0m \u001b[0;34m=\u001b[0m \u001b[0mtf\u001b[0m\u001b[0;34m.\u001b[0m\u001b[0mnn\u001b[0m\u001b[0;34m.\u001b[0m\u001b[0msoftmax\u001b[0m\u001b[0;34m(\u001b[0m\u001b[0mpredictions\u001b[0m\u001b[0;34m[\u001b[0m\u001b[0;36m0\u001b[0m\u001b[0;34m]\u001b[0m\u001b[0;34m)\u001b[0m\u001b[0;34m\u001b[0m\u001b[0;34m\u001b[0m\u001b[0m\n\u001b[1;32m      8\u001b[0m     \u001b[0mst\u001b[0m\u001b[0;34m.\u001b[0m\u001b[0mwrite\u001b[0m\u001b[0;34m(\u001b[0m\u001b[0mprediction\u001b[0m\u001b[0;34m)\u001b[0m\u001b[0;34m\u001b[0m\u001b[0;34m\u001b[0m\u001b[0m\n",
            "\u001b[0;31mNameError\u001b[0m: name 'import_and_predict' is not defined"
          ]
        }
      ]
    },
    {
      "cell_type": "code",
      "metadata": {
        "colab": {
          "base_uri": "https://localhost:8080/",
          "height": 304
        },
        "id": "ok24tfyB1q_a",
        "outputId": "f1e9a246-1fd4-4409-b31d-230048b5c2a0"
      },
      "source": [
        "from matplotlib.pyplot import imshow\n",
        "img = Image.open(r\"/content/drive/MyDrive/data_set/brain_tumor_dataset/yes/Y153.jpg\")\n",
        "x = np.array(img.resize((128,128)))\n",
        "x = x.reshape(1,128,128,3)\n",
        "res = model.predict_on_batch(x)\n",
        "classification = np.where(res == np.amax(res))[1][0]\n",
        "imshow(img)\n",
        "print(str(res[0][classification]*100) + '% Confidence This Is ' + names(classification))\n",
        "print(res)"
      ],
      "execution_count": null,
      "outputs": [
        {
          "output_type": "stream",
          "name": "stdout",
          "text": [
            "100.0% Confidence This Is Its a Tumor\n",
            "[[1. 0.]]\n"
          ]
        },
        {
          "output_type": "display_data",
          "data": {
            "image/png": "[encoded data removed]",
            "text/plain": [
              "<Figure size 432x288 with 1 Axes>"
            ]
          },
          "metadata": {}
        }
      ]
    },
    {
      "cell_type": "code",
      "metadata": {
        "id": "c8VXZtVeibTR"
      },
      "source": [
        ""
      ],
      "execution_count": null,
      "outputs": []
    },
    {
      "cell_type": "code",
      "metadata": {
        "id": "2epRNYvlPBOn"
      },
      "source": [
        ""
      ],
      "execution_count": null,
      "outputs": []
    },
    {
      "cell_type": "code",
      "metadata": {
        "id": "Yb21avhmibO0"
      },
      "source": [
        ""
      ],
      "execution_count": null,
      "outputs": []
    },
    {
      "cell_type": "markdown",
      "metadata": {
        "id": "oRS6CXGvicV4"
      },
      "source": [
        "# Modules\n"
      ]
    },
    {
      "cell_type": "code",
      "metadata": {
        "id": "KUVgFIEI8C1L"
      },
      "source": [
        ""
      ],
      "execution_count": null,
      "outputs": []
    },
    {
      "cell_type": "markdown",
      "metadata": {
        "id": "Z3X4l79t8CIa"
      },
      "source": [
        ""
      ]
    },
    {
      "cell_type": "markdown",
      "metadata": {
        "id": "jFO7kcdO8BS1"
      },
      "source": [
        ""
      ]
    },
    {
      "cell_type": "markdown",
      "metadata": {
        "id": "oxs_gsI1i-kd"
      },
      "source": [
        "### Importing Important Modules"
      ]
    },
    {
      "cell_type": "code",
      "metadata": {
        "id": "a8R9V1qfibJ1"
      },
      "source": [
        "#importing all the required modules/library\n",
        "import os\n",
        "import tensorflow as tf\n",
        "import keras \n",
        "from keras.models import Sequential\n",
        "from keras.layers import Conv2D, MaxPooling2D, Flatten, Dense, Dropout, BatchNormalization\n",
        "from PIL import Image\n",
        "import numpy as np\n",
        "import pandas as pd\n",
        "import matplotlib.pyplot as plt\n",
        "plt.style.use('dark_background')\n",
        "from sklearn.model_selection import train_test_split\n",
        "from sklearn.preprocessing import OneHotEncoder"
      ],
      "execution_count": null,
      "outputs": []
    },
    {
      "cell_type": "markdown",
      "metadata": {
        "id": "RrqCoDZajECh"
      },
      "source": [
        "### Data Preprocessing \n"
      ]
    },
    {
      "cell_type": "code",
      "metadata": {
        "id": "Mi_od9BqibA9"
      },
      "source": [
        "#setting encoder  \n",
        "encoder = OneHotEncoder()\n",
        "encoder.fit([[0], [1]]) \n",
        "\n",
        "#pocessing data containing tumour\n",
        "data = []\n",
        "paths = []\n",
        "result = []\n",
        "\n",
        "for r, d, f in os.walk(r'/content/drive/MyDrive/data_set/brain_tumor_dataset/yes'):\n",
        "    for file in f:\n",
        "        if '.jpg' in file:\n",
        "            paths.append(os.path.join(r, file))\n",
        "\n",
        "for path in paths:\n",
        "    img = Image.open(path)\n",
        "    img = img.resize((128,128))\n",
        "    img = np.array(img)\n",
        "    if(img.shape == (128,128,3)):\n",
        "        data.append(np.array(img))\n",
        "        result.append(encoder.transform([[0]]).toarray())\n",
        "\n",
        "#processing data containing no tumour\n",
        "paths = []\n",
        "for r, d, f in os.walk(r\"/content/drive/MyDrive/data_set/brain_tumor_dataset/no\"):\n",
        "    for file in f:\n",
        "        if '.jpg' in file:\n",
        "            paths.append(os.path.join(r, file))\n",
        "\n",
        "for path in paths:\n",
        "    img = Image.open(path)\n",
        "    img = img.resize((128,128))\n",
        "    img = np.array(img)\n",
        "    if(img.shape == (128,128,3)):\n",
        "        data.append(np.array(img))\n",
        "        result.append(encoder.transform([[1]]).toarray())\n",
        "\n",
        "#storing processed data for future use.\n",
        "data = np.array(data)\n",
        "\n",
        "result = np.array(result)\n",
        "result = result.reshape(139,2)\n"
      ],
      "execution_count": null,
      "outputs": []
    },
    {
      "cell_type": "markdown",
      "metadata": {
        "id": "A5WEXK4imQlF"
      },
      "source": [
        "### Data Splitting"
      ]
    },
    {
      "cell_type": "code",
      "metadata": {
        "id": "f6vnYz6ria4H"
      },
      "source": [
        "#Splitting data and results(labels) for training and testing\n",
        "x_train,x_test,y_train,y_test = train_test_split(data, result, test_size=0.2, shuffle=True, random_state=0)"
      ],
      "execution_count": null,
      "outputs": []
    },
    {
      "cell_type": "markdown",
      "metadata": {
        "id": "jBAXDURvmXJc"
      },
      "source": [
        "### Creating Model Architecture"
      ]
    },
    {
      "cell_type": "code",
      "metadata": {
        "id": "fbKD5StTiatQ",
        "colab": {
          "base_uri": "https://localhost:8080/"
        },
        "outputId": "ab0c3eac-9c01-43eb-a2e4-9102ea42f5bc"
      },
      "source": [
        "#creating a model with sequential architecture\n",
        "model = Sequential()\n",
        "\n",
        "model.add(Conv2D(32, kernel_size=(2, 2), input_shape=(128, 128, 3), padding = 'Same'))\n",
        "\n",
        "\n",
        "model.add(BatchNormalization())\n",
        "model.add(MaxPooling2D(pool_size=(2, 2)))\n",
        "model.add(Dropout(0.25))\n",
        "\n",
        "model.add(Conv2D(64, kernel_size = (2,2), activation ='relu', padding = 'Same'))\n",
        "\n",
        "model.add(BatchNormalization())\n",
        "model.add(MaxPooling2D(pool_size=(2,2), strides=(2,2)))\n",
        "model.add(Dropout(0.25))\n",
        "\n",
        "\n",
        "model.add(Flatten())\n",
        "\n",
        "model.add(Dense(512, activation='relu'))\n",
        "model.add(Dropout(0.5))\n",
        "model.add(Dense(2, activation='softmax'))\n",
        "\n",
        "model.compile(loss = \"categorical_crossentropy\", optimizer='Adamax',metrics=['accuracy'])\n",
        "print(model.summary())"
      ],
      "execution_count": null,
      "outputs": [
        {
          "output_type": "stream",
          "name": "stdout",
          "text": [
            "Model: \"sequential_5\"\n",
            "_________________________________________________________________\n",
            " Layer (type)                Output Shape              Param #   \n",
            "=================================================================\n",
            " conv2d_11 (Conv2D)          (None, 128, 128, 32)      416       \n",
            "                                                                 \n",
            " batch_normalization_11 (Bat  (None, 128, 128, 32)     128       \n",
            " chNormalization)                                                \n",
            "                                                                 \n",
            " max_pooling2d_11 (MaxPoolin  (None, 64, 64, 32)       0         \n",
            " g2D)                                                            \n",
            "                                                                 \n",
            " dropout_16 (Dropout)        (None, 64, 64, 32)        0         \n",
            "                                                                 \n",
            " conv2d_12 (Conv2D)          (None, 64, 64, 64)        8256      \n",
            "                                                                 \n",
            " batch_normalization_12 (Bat  (None, 64, 64, 64)       256       \n",
            " chNormalization)                                                \n",
            "                                                                 \n",
            " max_pooling2d_12 (MaxPoolin  (None, 32, 32, 64)       0         \n",
            " g2D)                                                            \n",
            "                                                                 \n",
            " dropout_17 (Dropout)        (None, 32, 32, 64)        0         \n",
            "                                                                 \n",
            " flatten_5 (Flatten)         (None, 65536)             0         \n",
            "                                                                 \n",
            " dense_10 (Dense)            (None, 512)               33554944  \n",
            "                                                                 \n",
            " dropout_18 (Dropout)        (None, 512)               0         \n",
            "                                                                 \n",
            " dense_11 (Dense)            (None, 2)                 1026      \n",
            "                                                                 \n",
            "=================================================================\n",
            "Total params: 33,565,026\n",
            "Trainable params: 33,564,834\n",
            "Non-trainable params: 192\n",
            "_________________________________________________________________\n",
            "None\n"
          ]
        }
      ]
    },
    {
      "cell_type": "markdown",
      "metadata": {
        "id": "BU70-TwdmeFR"
      },
      "source": [
        "### Training ( Fitting Model to Testing Data )"
      ]
    },
    {
      "cell_type": "code",
      "metadata": {
        "colab": {
          "base_uri": "https://localhost:8080/"
        },
        "id": "LAIv3UG-iaaw",
        "outputId": "1fa7f6e3-5f1f-41ba-e979-250b0dc9f72f"
      },
      "source": [
        "# Training / fitting model into testing data\n",
        "history = model.fit(x_train, y_train, epochs = 80, batch_size = 40, verbose = 1,validation_data = (x_test, y_test))"
      ],
      "execution_count": null,
      "outputs": [
        {
          "output_type": "stream",
          "name": "stdout",
          "text": [
            "Epoch 1/80\n",
            "3/3 [==============================] - 5s 1s/step - loss: 54.8476 - accuracy: 0.5315 - val_loss: 328.9522 - val_accuracy: 0.5000\n",
            "Epoch 2/80\n",
            "3/3 [==============================] - 4s 1s/step - loss: 41.5485 - accuracy: 0.6306 - val_loss: 75.7798 - val_accuracy: 0.5714\n",
            "Epoch 3/80\n",
            "3/3 [==============================] - 4s 1s/step - loss: 15.6220 - accuracy: 0.7387 - val_loss: 18.1125 - val_accuracy: 0.6786\n",
            "Epoch 4/80\n",
            "3/3 [==============================] - 4s 1s/step - loss: 12.3195 - accuracy: 0.7027 - val_loss: 24.6380 - val_accuracy: 0.6071\n",
            "Epoch 5/80\n",
            "3/3 [==============================] - 4s 1s/step - loss: 13.8148 - accuracy: 0.6847 - val_loss: 19.4713 - val_accuracy: 0.6071\n",
            "Epoch 6/80\n",
            "3/3 [==============================] - 4s 1s/step - loss: 7.9430 - accuracy: 0.7658 - val_loss: 12.3863 - val_accuracy: 0.6071\n",
            "Epoch 7/80\n",
            "3/3 [==============================] - 4s 1s/step - loss: 4.2763 - accuracy: 0.7748 - val_loss: 11.7490 - val_accuracy: 0.6786\n",
            "Epoch 8/80\n",
            "3/3 [==============================] - 4s 1s/step - loss: 4.4159 - accuracy: 0.8468 - val_loss: 7.7666 - val_accuracy: 0.7500\n",
            "Epoch 9/80\n",
            "3/3 [==============================] - 4s 1s/step - loss: 2.3922 - accuracy: 0.9099 - val_loss: 12.2203 - val_accuracy: 0.6429\n",
            "Epoch 10/80\n",
            "3/3 [==============================] - 4s 1s/step - loss: 2.9171 - accuracy: 0.9099 - val_loss: 10.1642 - val_accuracy: 0.6429\n",
            "Epoch 11/80\n",
            "3/3 [==============================] - 4s 1s/step - loss: 2.2239 - accuracy: 0.9099 - val_loss: 3.8687 - val_accuracy: 0.7857\n",
            "Epoch 12/80\n",
            "3/3 [==============================] - 4s 1s/step - loss: 0.9782 - accuracy: 0.9369 - val_loss: 4.7569 - val_accuracy: 0.7500\n",
            "Epoch 13/80\n",
            "3/3 [==============================] - 4s 1s/step - loss: 1.0322 - accuracy: 0.9099 - val_loss: 4.5147 - val_accuracy: 0.7500\n",
            "Epoch 14/80\n",
            "3/3 [==============================] - 4s 1s/step - loss: 1.0241 - accuracy: 0.9009 - val_loss: 3.2423 - val_accuracy: 0.7857\n",
            "Epoch 15/80\n",
            "3/3 [==============================] - 4s 1s/step - loss: 0.4953 - accuracy: 0.9459 - val_loss: 4.5542 - val_accuracy: 0.7500\n",
            "Epoch 16/80\n",
            "3/3 [==============================] - 4s 1s/step - loss: 0.8728 - accuracy: 0.9369 - val_loss: 3.8589 - val_accuracy: 0.7500\n",
            "Epoch 17/80\n",
            "3/3 [==============================] - 4s 1s/step - loss: 0.3877 - accuracy: 0.9459 - val_loss: 3.7193 - val_accuracy: 0.6786\n",
            "Epoch 18/80\n",
            "3/3 [==============================] - 4s 1s/step - loss: 0.2715 - accuracy: 0.9820 - val_loss: 4.1326 - val_accuracy: 0.7857\n",
            "Epoch 19/80\n",
            "3/3 [==============================] - 4s 1s/step - loss: 0.1568 - accuracy: 0.9730 - val_loss: 4.0104 - val_accuracy: 0.7857\n",
            "Epoch 20/80\n",
            "3/3 [==============================] - 4s 1s/step - loss: 0.2696 - accuracy: 0.9550 - val_loss: 3.1681 - val_accuracy: 0.7500\n",
            "Epoch 21/80\n",
            "3/3 [==============================] - 4s 1s/step - loss: 0.0184 - accuracy: 0.9910 - val_loss: 2.9955 - val_accuracy: 0.7500\n",
            "Epoch 22/80\n",
            "3/3 [==============================] - 4s 1s/step - loss: 0.0162 - accuracy: 0.9910 - val_loss: 3.3022 - val_accuracy: 0.7857\n",
            "Epoch 23/80\n",
            "3/3 [==============================] - 4s 1s/step - loss: 0.0506 - accuracy: 0.9910 - val_loss: 3.9357 - val_accuracy: 0.7500\n",
            "Epoch 24/80\n",
            "3/3 [==============================] - 4s 1s/step - loss: 7.1620e-05 - accuracy: 1.0000 - val_loss: 4.4157 - val_accuracy: 0.7500\n",
            "Epoch 25/80\n",
            "3/3 [==============================] - 4s 1s/step - loss: 0.5440 - accuracy: 0.9730 - val_loss: 3.9211 - val_accuracy: 0.7500\n",
            "Epoch 26/80\n",
            "3/3 [==============================] - 4s 1s/step - loss: 0.0626 - accuracy: 0.9820 - val_loss: 3.3182 - val_accuracy: 0.7500\n",
            "Epoch 27/80\n",
            "3/3 [==============================] - 4s 1s/step - loss: 2.1408e-04 - accuracy: 1.0000 - val_loss: 2.8777 - val_accuracy: 0.7500\n",
            "Epoch 28/80\n",
            "3/3 [==============================] - 4s 1s/step - loss: 4.1749e-05 - accuracy: 1.0000 - val_loss: 2.6020 - val_accuracy: 0.7500\n",
            "Epoch 29/80\n",
            "3/3 [==============================] - 4s 1s/step - loss: 7.3800e-06 - accuracy: 1.0000 - val_loss: 2.4552 - val_accuracy: 0.7857\n",
            "Epoch 30/80\n",
            "3/3 [==============================] - 4s 1s/step - loss: 0.0125 - accuracy: 0.9910 - val_loss: 2.4099 - val_accuracy: 0.8214\n",
            "Epoch 31/80\n",
            "3/3 [==============================] - 4s 1s/step - loss: 0.0071 - accuracy: 0.9910 - val_loss: 2.3989 - val_accuracy: 0.8214\n",
            "Epoch 32/80\n",
            "3/3 [==============================] - 4s 1s/step - loss: 0.0013 - accuracy: 1.0000 - val_loss: 2.4199 - val_accuracy: 0.8214\n",
            "Epoch 33/80\n",
            "3/3 [==============================] - 4s 1s/step - loss: 2.3421e-06 - accuracy: 1.0000 - val_loss: 2.4492 - val_accuracy: 0.8214\n",
            "Epoch 34/80\n",
            "3/3 [==============================] - 4s 1s/step - loss: 0.0786 - accuracy: 0.9910 - val_loss: 2.4870 - val_accuracy: 0.7857\n",
            "Epoch 35/80\n",
            "3/3 [==============================] - 4s 1s/step - loss: 0.0866 - accuracy: 0.9910 - val_loss: 2.3840 - val_accuracy: 0.8214\n",
            "Epoch 36/80\n",
            "3/3 [==============================] - 4s 1s/step - loss: 0.0188 - accuracy: 0.9910 - val_loss: 2.3432 - val_accuracy: 0.8571\n",
            "Epoch 37/80\n",
            "3/3 [==============================] - 4s 1s/step - loss: 2.4341e-04 - accuracy: 1.0000 - val_loss: 2.3475 - val_accuracy: 0.8571\n",
            "Epoch 38/80\n",
            "3/3 [==============================] - 4s 1s/step - loss: 5.3190e-05 - accuracy: 1.0000 - val_loss: 2.3583 - val_accuracy: 0.8571\n",
            "Epoch 39/80\n",
            "3/3 [==============================] - 4s 1s/step - loss: 0.0158 - accuracy: 0.9910 - val_loss: 2.3603 - val_accuracy: 0.8571\n",
            "Epoch 40/80\n",
            "3/3 [==============================] - 4s 1s/step - loss: 0.1570 - accuracy: 0.9910 - val_loss: 2.3626 - val_accuracy: 0.8571\n",
            "Epoch 41/80\n",
            "3/3 [==============================] - 4s 1s/step - loss: 0.0042 - accuracy: 1.0000 - val_loss: 2.3759 - val_accuracy: 0.8214\n",
            "Epoch 42/80\n",
            "3/3 [==============================] - 4s 1s/step - loss: 0.2016 - accuracy: 0.9910 - val_loss: 2.3778 - val_accuracy: 0.8214\n",
            "Epoch 43/80\n",
            "3/3 [==============================] - 4s 1s/step - loss: 4.1136e-06 - accuracy: 1.0000 - val_loss: 2.3613 - val_accuracy: 0.8571\n",
            "Epoch 44/80\n",
            "3/3 [==============================] - 4s 1s/step - loss: 0.1966 - accuracy: 0.9820 - val_loss: 2.4173 - val_accuracy: 0.8214\n",
            "Epoch 45/80\n",
            "3/3 [==============================] - 4s 1s/step - loss: 0.0016 - accuracy: 1.0000 - val_loss: 2.4886 - val_accuracy: 0.8214\n",
            "Epoch 46/80\n",
            "3/3 [==============================] - 4s 1s/step - loss: 1.5938e-04 - accuracy: 1.0000 - val_loss: 2.5431 - val_accuracy: 0.8214\n",
            "Epoch 47/80\n",
            "3/3 [==============================] - 4s 1s/step - loss: 2.7321e-05 - accuracy: 1.0000 - val_loss: 2.5849 - val_accuracy: 0.8214\n",
            "Epoch 48/80\n",
            "3/3 [==============================] - 4s 1s/step - loss: 0.0024 - accuracy: 1.0000 - val_loss: 2.6100 - val_accuracy: 0.8214\n",
            "Epoch 49/80\n",
            "3/3 [==============================] - 4s 1s/step - loss: 0.0193 - accuracy: 0.9910 - val_loss: 2.6133 - val_accuracy: 0.8214\n",
            "Epoch 50/80\n",
            "3/3 [==============================] - 4s 1s/step - loss: 3.2084e-04 - accuracy: 1.0000 - val_loss: 2.6065 - val_accuracy: 0.8214\n",
            "Epoch 51/80\n",
            "3/3 [==============================] - 4s 1s/step - loss: 8.8867e-06 - accuracy: 1.0000 - val_loss: 2.6019 - val_accuracy: 0.8214\n",
            "Epoch 52/80\n",
            "3/3 [==============================] - 4s 1s/step - loss: 0.0055 - accuracy: 1.0000 - val_loss: 2.6066 - val_accuracy: 0.8214\n",
            "Epoch 53/80\n",
            "3/3 [==============================] - 4s 1s/step - loss: 3.4060e-04 - accuracy: 1.0000 - val_loss: 2.6221 - val_accuracy: 0.8214\n",
            "Epoch 54/80\n",
            "3/3 [==============================] - 4s 1s/step - loss: 0.0036 - accuracy: 1.0000 - val_loss: 2.6432 - val_accuracy: 0.8214\n",
            "Epoch 55/80\n",
            "3/3 [==============================] - 4s 1s/step - loss: 0.0015 - accuracy: 1.0000 - val_loss: 2.6710 - val_accuracy: 0.8214\n",
            "Epoch 56/80\n",
            "3/3 [==============================] - 4s 1s/step - loss: 0.0159 - accuracy: 0.9910 - val_loss: 2.7125 - val_accuracy: 0.8214\n",
            "Epoch 57/80\n",
            "3/3 [==============================] - 4s 1s/step - loss: 0.0314 - accuracy: 0.9910 - val_loss: 2.8082 - val_accuracy: 0.7857\n",
            "Epoch 58/80\n",
            "3/3 [==============================] - 4s 1s/step - loss: 2.5762e-05 - accuracy: 1.0000 - val_loss: 2.9171 - val_accuracy: 0.7143\n",
            "Epoch 59/80\n",
            "3/3 [==============================] - 4s 1s/step - loss: 6.0857e-05 - accuracy: 1.0000 - val_loss: 3.0156 - val_accuracy: 0.7500\n",
            "Epoch 60/80\n",
            "3/3 [==============================] - 4s 1s/step - loss: 0.0042 - accuracy: 1.0000 - val_loss: 3.0545 - val_accuracy: 0.7500\n",
            "Epoch 61/80\n",
            "3/3 [==============================] - 4s 1s/step - loss: 0.0042 - accuracy: 1.0000 - val_loss: 3.0221 - val_accuracy: 0.7500\n",
            "Epoch 62/80\n",
            "3/3 [==============================] - 4s 1s/step - loss: 1.5937e-06 - accuracy: 1.0000 - val_loss: 3.0063 - val_accuracy: 0.7500\n",
            "Epoch 63/80\n",
            "3/3 [==============================] - 4s 1s/step - loss: 0.0240 - accuracy: 0.9910 - val_loss: 2.8956 - val_accuracy: 0.7500\n",
            "Epoch 64/80\n",
            "3/3 [==============================] - 4s 1s/step - loss: 0.0088 - accuracy: 0.9910 - val_loss: 2.8190 - val_accuracy: 0.7857\n",
            "Epoch 65/80\n",
            "3/3 [==============================] - 4s 1s/step - loss: 5.3834e-06 - accuracy: 1.0000 - val_loss: 2.7899 - val_accuracy: 0.8214\n",
            "Epoch 66/80\n",
            "3/3 [==============================] - 4s 1s/step - loss: 5.3317e-06 - accuracy: 1.0000 - val_loss: 2.7783 - val_accuracy: 0.8214\n",
            "Epoch 67/80\n",
            "3/3 [==============================] - 4s 1s/step - loss: 1.1555e-04 - accuracy: 1.0000 - val_loss: 2.7747 - val_accuracy: 0.8214\n",
            "Epoch 68/80\n",
            "3/3 [==============================] - 4s 1s/step - loss: 2.6142e-05 - accuracy: 1.0000 - val_loss: 2.7760 - val_accuracy: 0.8214\n",
            "Epoch 69/80\n",
            "3/3 [==============================] - 4s 1s/step - loss: 4.5265e-04 - accuracy: 1.0000 - val_loss: 2.7809 - val_accuracy: 0.8214\n",
            "Epoch 70/80\n",
            "3/3 [==============================] - 4s 1s/step - loss: 5.3378e-04 - accuracy: 1.0000 - val_loss: 2.7883 - val_accuracy: 0.8214\n",
            "Epoch 71/80\n",
            "3/3 [==============================] - 4s 1s/step - loss: 0.0039 - accuracy: 1.0000 - val_loss: 2.8023 - val_accuracy: 0.8214\n",
            "Epoch 72/80\n",
            "3/3 [==============================] - 4s 1s/step - loss: 0.0257 - accuracy: 0.9910 - val_loss: 2.8194 - val_accuracy: 0.8214\n",
            "Epoch 73/80\n",
            "3/3 [==============================] - 4s 1s/step - loss: 7.0392e-06 - accuracy: 1.0000 - val_loss: 2.8418 - val_accuracy: 0.8214\n",
            "Epoch 74/80\n",
            "3/3 [==============================] - 4s 1s/step - loss: 5.0097e-05 - accuracy: 1.0000 - val_loss: 2.8606 - val_accuracy: 0.8214\n",
            "Epoch 75/80\n",
            "3/3 [==============================] - 4s 1s/step - loss: 7.3978e-06 - accuracy: 1.0000 - val_loss: 2.8780 - val_accuracy: 0.8214\n",
            "Epoch 76/80\n",
            "3/3 [==============================] - 4s 1s/step - loss: 4.1454e-07 - accuracy: 1.0000 - val_loss: 2.8935 - val_accuracy: 0.8214\n",
            "Epoch 77/80\n",
            "3/3 [==============================] - 4s 1s/step - loss: 2.8468e-06 - accuracy: 1.0000 - val_loss: 2.9078 - val_accuracy: 0.8214\n",
            "Epoch 78/80\n",
            "3/3 [==============================] - 4s 1s/step - loss: 6.2074e-07 - accuracy: 1.0000 - val_loss: 2.9206 - val_accuracy: 0.8214\n",
            "Epoch 79/80\n",
            "3/3 [==============================] - 4s 1s/step - loss: 8.2250e-06 - accuracy: 1.0000 - val_loss: 2.9325 - val_accuracy: 0.8214\n",
            "Epoch 80/80\n",
            "3/3 [==============================] - 4s 1s/step - loss: 8.2766e-05 - accuracy: 1.0000 - val_loss: 2.9436 - val_accuracy: 0.8214\n"
          ]
        }
      ]
    },
    {
      "cell_type": "markdown",
      "metadata": {
        "id": "8B0HoXuhAdJ_"
      },
      "source": [
        "Accuracy Graph"
      ]
    },
    {
      "cell_type": "code",
      "metadata": {
        "id": "Y3KCBlAKnEpC"
      },
      "source": [
        "#Saving Trained model\n",
        "tf.keras.models.save_model(model,'my_model.hdf5')"
      ],
      "execution_count": null,
      "outputs": []
    },
    {
      "cell_type": "code",
      "metadata": {
        "id": "huukVxu2AcCe",
        "colab": {
          "base_uri": "https://localhost:8080/",
          "height": 300
        },
        "outputId": "85550029-bbbd-4ab7-d46f-4d15a757babb"
      },
      "source": [
        "plt.plot(history.history['accuracy'], label='accuracy')\n",
        "plt.plot(history.history['val_accuracy'], label = 'val_accuracy')\n",
        "plt.xlabel('Epoch')\n",
        "plt.ylabel('Accuracy')\n",
        "plt.ylim([0.5, 1])\n",
        "plt.legend(loc='lower right')"
      ],
      "execution_count": null,
      "outputs": [
        {
          "output_type": "execute_result",
          "data": {
            "text/plain": [
              "<matplotlib.legend.Legend at 0x7f567d19eb90>"
            ]
          },
          "metadata": {},
          "execution_count": 34
        },
        {
          "output_type": "display_data",
          "data": {
            "image/png": "[encoded data removed]",
            "text/plain": [
              "<Figure size 432x288 with 1 Axes>"
            ]
          },
          "metadata": {}
        }
      ]
    },
    {
      "cell_type": "code",
      "metadata": {
        "colab": {
          "base_uri": "https://localhost:8080/"
        },
        "id": "a_KvJVnVDomx",
        "outputId": "a1e7394d-7ee2-423d-c9ea-b1288b959b0c"
      },
      "source": [
        "test_loss, test_acc = model.evaluate(x_test, y_test, verbose=2)"
      ],
      "execution_count": null,
      "outputs": [
        {
          "output_type": "stream",
          "name": "stdout",
          "text": [
            "1/1 - 0s - loss: 2.3218 - accuracy: 0.8571 - 208ms/epoch - 208ms/step\n"
          ]
        }
      ]
    },
    {
      "cell_type": "code",
      "metadata": {
        "id": "WDYm28I7AcmX",
        "colab": {
          "base_uri": "https://localhost:8080/"
        },
        "outputId": "002d9615-60cc-4b27-90db-f3257e1b8bf0"
      },
      "source": [
        "print(f\"{(test_acc)*100}%    {test_loss}\")"
      ],
      "execution_count": null,
      "outputs": [
        {
          "output_type": "stream",
          "name": "stdout",
          "text": [
            "85.71428656578064%    2.3218486309051514\n"
          ]
        }
      ]
    },
    {
      "cell_type": "code",
      "metadata": {
        "colab": {
          "base_uri": "https://localhost:8080/",
          "height": 295
        },
        "id": "bfQjZqlTnaZ8",
        "outputId": "23b6b520-fff5-425c-d869-d3237a8f4f06"
      },
      "source": [
        "# visualizing losses of model wrt epochs\n",
        "plt.plot(history.history['loss'])\n",
        "plt.plot(history.history['val_loss'])\n",
        "plt.title('Model Loss')\n",
        "plt.ylabel('Loss')\n",
        "plt.xlabel('Epoch')\n",
        "plt.legend(['Test', 'Validation'], loc='upper right')\n",
        "plt.show()"
      ],
      "execution_count": null,
      "outputs": [
        {
          "output_type": "display_data",
          "data": {
            "image/png": "[encoded data removed]",
            "text/plain": [
              "<Figure size 432x288 with 1 Axes>"
            ]
          },
          "metadata": {}
        }
      ]
    },
    {
      "cell_type": "markdown",
      "metadata": {
        "id": "l4qC73hAnA2V"
      },
      "source": [
        "### Saving Trained model"
      ]
    },
    {
      "cell_type": "code",
      "metadata": {
        "id": "23zgHPIJA5hl"
      },
      "source": [
        ""
      ],
      "execution_count": null,
      "outputs": []
    },
    {
      "cell_type": "markdown",
      "metadata": {
        "id": "hGuLm2Q9oDDF"
      },
      "source": [
        "### Using Model for prediction / Inference "
      ]
    },
    {
      "cell_type": "code",
      "metadata": {
        "id": "whYpCtG6qzPe"
      },
      "source": [
        "#decoding output\n",
        "def names(number):\n",
        "    if number==0:\n",
        "        return 'Its a Tumor'\n",
        "    else:\n",
        "        return 'No, Its not a tumor'"
      ],
      "execution_count": null,
      "outputs": []
    },
    {
      "cell_type": "code",
      "metadata": {
        "colab": {
          "base_uri": "https://localhost:8080/",
          "height": 274
        },
        "id": "IwGouyZyoCVA",
        "outputId": "df83cdd3-9fc9-4e47-8505-a65ab15a6099"
      },
      "source": [
        "#using model for prediction\n",
        "from matplotlib.pyplot import imshow\n",
        "img = Image.open(r\"/content/drive/MyDrive/data_set/brain_tumor_dataset/no/13 no.jpg\")\n",
        "x = np.array(img.resize((128,128)))\n",
        "x = x.reshape(1,128,128,3)\n",
        "res = model.predict_on_batch(x)\n",
        "classification = np.where(res == np.amax(res))[1][0]\n",
        "imshow(img)\n",
        "print(str(res[0][classification]*100) + '% Confidence This Is ' + names(classification))\n",
        "print(res)"
      ],
      "execution_count": null,
      "outputs": [
        {
          "output_type": "stream",
          "name": "stdout",
          "text": [
            "100.0% Confidence This Is No, Its not a tumor\n",
            "[[2.170596e-22 1.000000e+00]]\n"
          ]
        },
        {
          "output_type": "display_data",
          "data": {
            "image/png": "[encoded data removed]",
            "text/plain": [
              "<Figure size 432x288 with 1 Axes>"
            ]
          },
          "metadata": {}
        }
      ]
    },
    {
      "cell_type": "code",
      "metadata": {
        "id": "60XamEafqiiY"
      },
      "source": [
        ""
      ],
      "execution_count": null,
      "outputs": []
    },
    {
      "cell_type": "markdown",
      "metadata": {
        "id": "JbWmJl43uTl_"
      },
      "source": [
        "# For GUI"
      ]
    },
    {
      "cell_type": "code",
      "metadata": {
        "id": "ZqX9javMwabD"
      },
      "source": [
        "#decoding output\n",
        "def names(number):\n",
        "    if number==0:\n",
        "        return 'Its a Tumor'\n",
        "    else:\n",
        "        return 'Its NOT a tumor'"
      ],
      "execution_count": null,
      "outputs": []
    },
    {
      "cell_type": "code",
      "metadata": {
        "colab": {
          "base_uri": "https://localhost:8080/",
          "height": 304
        },
        "id": "axc7lwEJuTGl",
        "outputId": "a56b0ca2-c60c-4fa2-8704-a3ac7442b0ec"
      },
      "source": [
        "# loading Model\n",
        "modelx=tf.keras.models.load_model('/content/my_model3.hdf5') #passing model file\n",
        "\n",
        "# taking image file and preprocessing\n",
        "img = Image.open(r\"/content/bt2.jpg\")\n",
        "x = np.array(img.resize((128,128)))\n",
        "x = x.reshape(1,128,128,3)\n",
        "\n",
        "#pridicting by passing img to model\n",
        "res = modelx.predict_on_batch(x)\n",
        "\n",
        "#showing pridiction as output\n",
        "classification = np.where(res == np.amax(res))[1][0]\n",
        "imshow(img)\n",
        "print(str(res[0][classification]*100) + '% Confident that ' +names(classification))\n",
        "print(res)"
      ],
      "execution_count": null,
      "outputs": [
        {
          "output_type": "stream",
          "name": "stdout",
          "text": [
            "100.0% Confident that Its NOT a tumor\n",
            "[[7.45062e-22 1.00000e+00]]\n"
          ]
        },
        {
          "output_type": "display_data",
          "data": {
            "image/png": "[encoded data removed]",
            "text/plain": [
              "<Figure size 432x288 with 1 Axes>"
            ]
          },
          "metadata": {}
        }
      ]
    },
    {
      "cell_type": "code",
      "metadata": {
        "id": "HzbUVFbBvcQv"
      },
      "source": [
        ""
      ],
      "execution_count": null,
      "outputs": []
    },
    {
      "cell_type": "markdown",
      "metadata": {
        "id": "GZeu3BsCzD_F"
      },
      "source": [
        "# GUI"
      ]
    },
    {
      "cell_type": "code",
      "metadata": {
        "id": "GRHErIQ1zMrN"
      },
      "source": [
        "!pip install streamlit"
      ],
      "execution_count": null,
      "outputs": []
    },
    {
      "cell_type": "code",
      "metadata": {
        "colab": {
          "base_uri": "https://localhost:8080/"
        },
        "id": "HLeWHOntzGpR",
        "outputId": "0cc5cdfd-ce3e-48a2-f592-32c2ba041e68"
      },
      "source": [
        "%%writefile myapp.py\n",
        "import streamlit as st\n",
        "import tensorflow as tf\n",
        "import numpy as np\n",
        "\n",
        "# def\n",
        "def show_uploaded_img(uploaded_file):\n",
        "  img = Image.open(uploaded_file)\n",
        "  st.subheader(\"Uploaded file\")\n",
        "  st.image(img)\n",
        "  return img\n",
        "\n",
        "def names(number):\n",
        "    if number==0:\n",
        "        return 'Its a Tumor'\n",
        "    else:\n",
        "        return 'Its NOT a tumor'\n",
        "\n",
        "def make_prediction(img):\n",
        "  x = np.array(img.resize((128,128)))\n",
        "  x = x.reshape(1,128,128,3)\n",
        "  res = modelx.predict_on_batch(x)\n",
        "  classification = np.where(res == np.amax(res))[1][0]\n",
        "  st.subheader(\"Results\")\n",
        "  st.text(str(res[0][classification]*100) + '% Confident that ' +names(classification))\n",
        "  #st.text(res) \n",
        "\n",
        "st.title(\"Brain Tumour Classifier\")\n",
        "\n",
        "st.header(\"Classifier X-RAY IMAGES\")\n",
        "\n",
        "st.subheader(\"Upload a file Brain scanned file\")\n",
        "\n",
        "uploaded_file = st.file_uploader(\"\", type=['png','jpg','jpeg'])\n",
        "\n",
        "modelx=tf.keras.models.load_model('/content/my_model3.hdf5') #getting pretrained model\n",
        "\n",
        "if uploaded_file is not None:\n",
        "  img = show_uploaded_img(uploaded_file)\n",
        "  if st.button(\"Classify\"):\n",
        "    make_predicition(img)\n",
        "  else:\n",
        "    st.write(\"Some error occured while Classifying the image!!!\")\n",
        "else:\n",
        "  st.write(\"No image uploaded!!!\")\n",
        "  st.write(\"Upload an image to identify tumor.\")"
      ],
      "execution_count": null,
      "outputs": [
        {
          "output_type": "stream",
          "name": "stdout",
          "text": [
            "Overwriting myapp.py\n"
          ]
        }
      ]
    },
    {
      "cell_type": "code",
      "metadata": {
        "colab": {
          "base_uri": "https://localhost:8080/"
        },
        "id": "TM-rAg8hzJXv",
        "outputId": "22ac4e0e-78ac-4723-88ca-c8f65a172a65"
      },
      "source": [
        "!streamlit run myapp.py"
      ],
      "execution_count": null,
      "outputs": [
        {
          "output_type": "stream",
          "name": "stdout",
          "text": [
            "\u001b[0m\n",
            "\u001b[34m\u001b[1m  You can now view your Streamlit app in your browser.\u001b[0m\n",
            "\u001b[0m\n",
            "\u001b[34m  Network URL: \u001b[0m\u001b[1mhttp://172.28.0.2:8501\u001b[0m\n",
            "\u001b[34m  External URL: \u001b[0m\u001b[1mhttp://35.197.45.44:8501\u001b[0m\n",
            "\u001b[0m\n",
            "2021-11-25 11:58:43.489265: E tensorflow/stream_executor/cuda/cuda_driver.cc:271] failed call to cuInit: CUDA_ERROR_NO_DEVICE: no CUDA-capable device is detected\n",
            "exit\n",
            "exit()\n",
            "\u001b[34m  Stopping...\u001b[0m\n",
            "\u001b[34m  Stopping...\u001b[0m\n"
          ]
        }
      ]
    },
    {
      "cell_type": "code",
      "metadata": {
        "id": "ot051Ryy25iz"
      },
      "source": [
        ""
      ],
      "execution_count": null,
      "outputs": []
    },
    {
      "cell_type": "code",
      "metadata": {
        "id": "BU2LOBlY271l"
      },
      "source": [
        ""
      ],
      "execution_count": null,
      "outputs": []
    },
    {
      "cell_type": "code",
      "metadata": {
        "id": "whZjuSTS3M1V"
      },
      "source": [
        ""
      ],
      "execution_count": null,
      "outputs": []
    }
  ]
}